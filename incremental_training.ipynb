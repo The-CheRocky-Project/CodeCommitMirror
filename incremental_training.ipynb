{
 "cells": [
  {
   "cell_type": "code",
   "execution_count": 18,
   "metadata": {},
   "outputs": [],
   "source": [
    "import boto3;\n",
    "import json;\n",
    "\n",
    "\n",
    "mediaconvert = boto3.client(\n",
    "        \"mediaconvert\",\n",
    "        endpoint_url=\"https://\" +\n",
    "        \"fkuulejsc.mediaconvert.us-east-2.amazonaws.com\")\n",
    "\n",
    "env_settings = {\n",
    "    'AccelerationSettings': {\n",
    "        'Mode': 'DISABLED'\n",
    "    },\n",
    "    'BillingTagsSource': 'QUEUE',\n",
    "    'QueuePrefix': \"arn:aws:mediaconvert:us-east-2:693949087897:queues/\",\n",
    "    'Role': \"arn:aws:iam::693949087897:role/mediaRole\",\n",
    "    'Endpoint': \"https://fkuulejsc.mediaconvert.us-east-2.amazonaws.com\"\n",
    "}"
   ]
  },
  {
   "cell_type": "code",
   "execution_count": 19,
   "metadata": {},
   "outputs": [
    {
     "name": "stdout",
     "output_type": "stream",
     "text": [
      "warning: Skipping file /home/ec2-user/SageMaker/lost+found. File/Directory is not readable.\n",
      "download: s3://ahlconsolebucket/tmp/modified-resume.json to ./modified-resume.json\n",
      "warning: Skipping file /home/ec2-user/SageMaker/lost+found. File/Directory is not readable.\n",
      "                                                              \n"
     ]
    }
   ],
   "source": [
    "#sincronizzazione resume remoto con notebook\n",
    "#prendo il resume con i dettagli e il file delle label\n",
    "!aws s3 sync s3://ahlconsolebucket/tmp ./\n",
    "!aws s3 sync s3://ahlconsolebucket/utils ./"
   ]
  },
  {
   "cell_type": "code",
   "execution_count": 27,
   "metadata": {
    "scrolled": false
   },
   "outputs": [
    {
     "name": "stdout",
     "output_type": "stream",
     "text": [
      "['change', 'esultanza', 'game', 'goal', 'guardalinee', 'palo', 'punizione', 'redcard', 'rigore', 'var', 'yellowcard']\n"
     ]
    }
   ],
   "source": [
    "#trasformo i file json in array di elementi\n",
    "data_file = open(\"modified-resume.json\")\n",
    "labels_file = open(\"labels.json\")\n",
    "data_bin = data_file.read()\n",
    "labels_bin = labels_file.read()\n",
    "data = json.loads(data_bin)\n",
    "labels = json.loads(labels_bin)['labels']\n",
    "print(labels)"
   ]
  },
  {
   "cell_type": "code",
   "execution_count": 42,
   "metadata": {},
   "outputs": [
    {
     "name": "stdout",
     "output_type": "stream",
     "text": [
      "s3://ahlconsolebucket/origin/Football_Red_card_to_Top_Players_2019-1.mp4\n"
     ]
    }
   ],
   "source": [
    "#creo la key del video originale per usarla con media convert\n",
    "full_key = data[0]['frame_key'].split('/')\n",
    "frame_key = full_key[len(full_key)-1]\n",
    "prefix_key = frame_key.split('.')[:-2]\n",
    "key = 's3://ahlconsolebucket/origin/' + '.'.join(prefix_key) + '.mp4'\n",
    "print(key)\n",
    "\n",
    "# name = splitted[-1]\n",
    "# splitted = name.split('.')\n",
    "\n",
    "# #Before: video_key = splitted[-2:] . Modified for test (before line 96 was a TypeError)\n",
    "# video_key = splitted[-3]\n",
    "\n",
    "# input_file_key = 's3://ahlconsolebucket/origin/' + video_key + '.mp4'"
   ]
  },
  {
   "cell_type": "code",
   "execution_count": 44,
   "metadata": {
    "scrolled": false
   },
   "outputs": [
    {
     "name": "stdout",
     "output_type": "stream",
     "text": [
      "machine true\n",
      "machine true\n",
      "machine true\n",
      "machine true\n",
      "user true\n",
      "Processing 4\n",
      "Record 4\n",
      "56780\n",
      "1234\n",
      "58014\n",
      "00:00:56:00\n",
      "00:00:58:00\n",
      "machine true\n",
      "machine true\n",
      "machine true\n",
      "machine true\n"
     ]
    }
   ],
   "source": [
    "#creo un ciclo che controlla tutti i dettagli recuperati dal resume\n",
    "#per ogni dettaglio controlla se è uman e show\n",
    "#imposta la cartella di destinazione con il nome della label associata a quel ritaglio\n",
    "#con i dettagli recuperati effettua il clipping\n",
    "H264 = dict(\n",
    "                InterlaceMode=\"PROGRESSIVE\", NumberReferenceFrames=3,\n",
    "                Syntax=\"DEFAULT\", Softness=0, GopClosedCadence=1,\n",
    "                GopSize=90, Slices=1, GopBReference=\"DISABLED\",\n",
    "                SlowPal=\"DISABLED\", SpatialAdaptiveQuantization=\"ENABLED\",\n",
    "                TemporalAdaptiveQuantization=\"ENABLED\",\n",
    "                FlickerAdaptiveQuantization=\"DISABLED\",\n",
    "                EntropyEncoding=\"CABAC\", Bitrate=3195,\n",
    "                FramerateControl=\"INITIALIZE_FROM_SOURCE\",\n",
    "                RateControlMode=\"CBR\", CodecProfile=\"MAIN\",\n",
    "                Telecine=\"NONE\", MinIInterval=0,\n",
    "                AdaptiveQuantization=\"HIGH\", CodecLevel=\"AUTO\",\n",
    "                FieldEncoding=\"PAFF\", SceneChangeDetect=\"ENABLED\",\n",
    "                QualityTuningLevel=\"SINGLE_PASS\",\n",
    "                FramerateConversionAlgorithm=\"DUPLICATE_DROP\",\n",
    "                UnregisteredSeiTimecode=\"DISABLED\", GopSizeUnits=\"FRAMES\",\n",
    "                ParControl=\"INITIALIZE_FROM_SOURCE\",\n",
    "                NumberBFramesBetweenReferenceFrames=2,\n",
    "                RepeatPps=\"DISABLED\", DynamicSubGop=\"STATIC\"\n",
    "            )\n",
    "env_settings = {\n",
    "    'AccelerationSettings': {\n",
    "        'Mode': 'DISABLED'\n",
    "    },\n",
    "    'BillingTagsSource': 'QUEUE',\n",
    "    'QueuePrefix': \"arn:aws:mediaconvert:us-east-2:693949087897:queues/\",\n",
    "    'Role': \"arn:aws:iam::693949087897:role/mediaRole\",\n",
    "    'Endpoint': \"https://fkuulejsc.mediaconvert.us-east-2.amazonaws.com\"\n",
    "}\n",
    "first_start = '00:00:00:00'\n",
    "for i in range(len(data)-1):\n",
    "    print(data[i]['type'],data[i]['show'])\n",
    "    if not data[i]['type'] == \"machine\" and data[i]['show'] == \"true\":\n",
    "        print('Processing ' + str(i))\n",
    "        details_array = []\n",
    "        print(\"Record \" + str(i))\n",
    "        start = int(data[i]['start'])\n",
    "        print(start)\n",
    "        start_ms = int(start % 1000)\n",
    "        rest = int((start - start_ms) / 1000)\n",
    "        start_seconds = int((rest % 60))\n",
    "        rest = int((rest - start_seconds) / 60)\n",
    "        start_minute = int(rest % 60)\n",
    "        start_hours = int((rest - start_minute) / 60)\n",
    "        duration = int(data[i]['tfs'])\n",
    "        print(duration)\n",
    "        end = start + duration\n",
    "        print(end)\n",
    "        duration = int(data[i]['tfs'])\n",
    "        end = start + duration\n",
    "        end_ms = int(end % 1000)\n",
    "        rest = int((end - end_ms) / 1000)\n",
    "        end_seconds = int((rest % 60))\n",
    "        rest = int((rest - end_seconds) / 60)\n",
    "        end_minute = int(rest % 60)\n",
    "        end_hours = int((rest - end_minute) / 60)\n",
    "        s = (\n",
    "                str(start_hours).zfill(2) +\n",
    "                \":\" + str(start_minute).zfill(2) +\n",
    "                \":\" + str(start_seconds).zfill(2) +\n",
    "                \":00\"\n",
    "        )\n",
    "        print(s)\n",
    "        e = (\n",
    "                str(end_hours).zfill(2) +\n",
    "                \":\" + str(end_minute).zfill(2) +\n",
    "                \":\" + str(end_seconds).zfill(2) +\n",
    "                \":00\"\n",
    "        )\n",
    "        print(e)\n",
    "        details_array.append({\n",
    "            'StartTimecode': s,\n",
    "            'EndTimecode': e\n",
    "        })\n",
    "        media_settings = {\n",
    "            \"OutputGroups\": [{\n",
    "                \"Name\": \"File Group\",\n",
    "                \"Outputs\": [\n",
    "                        # output dei frame da analizzare\n",
    "                        {\n",
    "                            \"ContainerSettings\": {\n",
    "                                \"Container\": \"RAW\"\n",
    "                            },\n",
    "                            \"Extension\": \".jpg\",\n",
    "                            \"VideoDescription\": {\n",
    "                                \"ScalingBehavior\": \"DEFAULT\",\n",
    "                                \"TimecodeInsertion\": \"DISABLED\",\n",
    "                                \"AntiAlias\": \"ENABLED\",\n",
    "                                \"Sharpness\": 50,\n",
    "                                \"CodecSettings\": {\n",
    "                                    \"Codec\": \"FRAME_CAPTURE\",\n",
    "                                    \"FrameCaptureSettings\": {\n",
    "                                        \"FramerateNumerator\": 4,\n",
    "                                        \"FramerateDenominator\": 1,\n",
    "                                        \"MaxCaptures\": 10000000,\n",
    "                                        \"Quality\": 80\n",
    "                                    }\n",
    "                                },\n",
    "                                \"DropFrameTimecode\": \"ENABLED\",\n",
    "                                \"ColorMetadata\": \"INSERT\"\n",
    "                            }\n",
    "                        },\n",
    "                        # output obbligatorio di almeno 1 video,\n",
    "                        # scelto volutamente di bassa qualità\n",
    "                        {\n",
    "                            \"Extension\": \".mp4\",\n",
    "                            \"NameModifier\": \"-low\",\n",
    "                            \"VideoDescription\": {\n",
    "                                \"Width\": 852,\n",
    "                                \"ScalingBehavior\": \"DEFAULT\",\n",
    "                                \"Height\": 480,\n",
    "                                \"TimecodeInsertion\": \"DISABLED\",\n",
    "                                \"AntiAlias\": \"ENABLED\",\n",
    "                                \"Sharpness\": 50,\n",
    "                                \"CodecSettings\": {\n",
    "                                    \"Codec\": \"H_264\",\n",
    "                                    \"H264Settings\": H264\n",
    "                                },\n",
    "                                \"AfdSignaling\": \"NONE\",\n",
    "                                \"DropFrameTimecode\": \"ENABLED\",\n",
    "                                \"RespondToAfd\": \"NONE\",\n",
    "                                \"ColorMetadata\": \"INSERT\"\n",
    "                            },\n",
    "                            \"ContainerSettings\": {\n",
    "                                \"Container\": \"MP4\",\n",
    "                                \"Mp4Settings\": {\n",
    "                                    \"CslgAtom\": \"INCLUDE\",\n",
    "                                    \"CttsVersion\": 0,\n",
    "                                    \"FreeSpaceBox\": \"EXCLUDE\",\n",
    "                                    \"MoovPlacement\": \"PROGRESSIVE_DOWNLOAD\"\n",
    "                                }\n",
    "                            }\n",
    "                        }\n",
    "                    ],\n",
    "                    \"OutputGroupSettings\": {\n",
    "                        \"Type\": \"FILE_GROUP_SETTINGS\",\n",
    "                        \"FileGroupSettings\": {\n",
    "                            \"Destination\": 's3://ahlconsolebucket/cuts/' + labels[data[i]['label']] + '/'\n",
    "                        }\n",
    "                    }\n",
    "                }\n",
    "            ],\n",
    "            \"AdAvailOffset\": 0,\n",
    "            \"Inputs\": [{\n",
    "                \"AudioSelectors\": {\n",
    "                    \"Audio Selector 1\": {\n",
    "                        \"Offset\": 0,\n",
    "                        \"DefaultSelection\": \"DEFAULT\",\n",
    "                        \"ProgramSelection\": 1\n",
    "                    }\n",
    "                },\n",
    "                \"VideoSelector\": {\n",
    "                    \"ColorSpace\": \"FOLLOW\",\n",
    "                    \"Rotate\": \"DEGREE_0\",\n",
    "                    \"AlphaBehavior\": \"DISCARD\"\n",
    "                },\n",
    "                \"FilterEnable\": \"AUTO\",\n",
    "                \"PsiControl\": \"USE_PSI\",\n",
    "                \"FilterStrength\": 0,\n",
    "                \"DeblockFilter\": \"DISABLED\",\n",
    "                \"DenoiseFilter\": \"DISABLED\",\n",
    "                'FileInput': key,\n",
    "                \"InputClippings\": details_array,\n",
    "                'TimecodeSource': 'SPECIFIEDSTART',\n",
    "                'TimecodeStart': first_start\n",
    "            }]\n",
    "        }\n",
    "        media_conv = boto3.client(\"mediaconvert\",\n",
    "            endpoint_url=env_settings['Endpoint'])\n",
    "        result = media_conv.create_job(\n",
    "            Role=env_settings[\"Role\"],\n",
    "            Settings=media_settings,\n",
    "            AccelerationSettings=env_settings[\"AccelerationSettings\"],\n",
    "            StatusUpdateInterval=\"SECONDS_60\",\n",
    "            Priority=0,\n",
    "            Queue='training'\n",
    "        )"
   ]
  },
  {
   "cell_type": "code",
   "execution_count": null,
   "metadata": {},
   "outputs": [],
   "source": [
    "#n frammentazioni i cui risultati vanno inseriti nel bucket dei dataset\n",
    "#suddivisi per cartelle come i clipping"
   ]
  },
  {
   "cell_type": "code",
   "execution_count": null,
   "metadata": {},
   "outputs": [],
   "source": [
    "#avvio suite di pulizia dai low file nella cartella del dataset incrementale"
   ]
  },
  {
   "cell_type": "code",
   "execution_count": null,
   "metadata": {},
   "outputs": [],
   "source": [
    "#recupero delle immagini con la stessa struttura data e resize"
   ]
  },
  {
   "cell_type": "code",
   "execution_count": null,
   "metadata": {},
   "outputs": [],
   "source": [
    "#recupero dell'immagine built in di image classification "
   ]
  },
  {
   "cell_type": "code",
   "execution_count": null,
   "metadata": {},
   "outputs": [],
   "source": [
    "#creazione dei channels di training e validation"
   ]
  },
  {
   "cell_type": "code",
   "execution_count": null,
   "metadata": {},
   "outputs": [],
   "source": [
    "#creazione dell'estimator (con modello il vecchio recuperato) e vio del fit\n",
    "# esempio\n",
    "# incr_ic = sagemaker.estimator.Estimator(training_image,\n",
    "#                                         role,\n",
    "#                                         train_instance_count=1,\n",
    "#                                         train_instance_type='ml.p2.xlarge',\n",
    "#                                         train_volume_size=50,\n",
    "#                                         train_max_run=360000,\n",
    "#                                         input_mode='File',\n",
    "#                                         output_path=s3_output_location,\n",
    "#                                         sagemaker_session=sess,\n",
    "#                                         hyperparameters=hyperparams,\n",
    "#                                         model_uri=ic.model_data) # This parameter will ingest the previous job's model as a new channel\n",
    "# incr_ic.fit(inputs=data_channels, logs=True)"
   ]
  },
  {
   "cell_type": "code",
   "execution_count": null,
   "metadata": {},
   "outputs": [],
   "source": [
    "#deploy dell'enpoint ed eliminazine del vecchio, passaggio del nuovo a front end"
   ]
  },
  {
   "cell_type": "code",
   "execution_count": null,
   "metadata": {},
   "outputs": [],
   "source": [
    "#chiusura notebook"
   ]
  }
 ],
 "metadata": {
  "kernelspec": {
   "display_name": "conda_mxnet_p36",
   "language": "python",
   "name": "conda_mxnet_p36"
  },
  "language_info": {
   "codemirror_mode": {
    "name": "ipython",
    "version": 3
   },
   "file_extension": ".py",
   "mimetype": "text/x-python",
   "name": "python",
   "nbconvert_exporter": "python",
   "pygments_lexer": "ipython3",
   "version": "3.6.10"
  }
 },
 "nbformat": 4,
 "nbformat_minor": 4
}
